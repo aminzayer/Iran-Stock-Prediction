{
 "cells": [
  {
   "cell_type": "markdown",
   "metadata": {},
   "source": [
    "# Introduction & Import Python libs"
   ]
  },
  {
   "cell_type": "code",
   "execution_count": 1,
   "metadata": {
    "_cell_guid": "b1076dfc-b9ad-4769-8c92-a6c4dae69d19",
    "_uuid": "8f2839f25d086af736a60e9eeb907d3b93b6e0e5",
    "execution": {
     "iopub.execute_input": "2021-12-04T16:16:04.008729Z",
     "iopub.status.busy": "2021-12-04T16:16:04.008386Z",
     "iopub.status.idle": "2021-12-04T16:16:04.037876Z",
     "shell.execute_reply": "2021-12-04T16:16:04.036934Z",
     "shell.execute_reply.started": "2021-12-04T16:16:04.008644Z"
    }
   },
   "outputs": [],
   "source": [
    "# Introduction\n",
    "# LSTMs are very powerful in sequence prediction problems because they’re able to store past information.\n",
    "# This is important in our case because the previous price of a stock is crucial in predicting its future price.\n",
    "# Amin Zayeromali   ===> Linkedin Profile : https://ir.linkedin.com/in/aminzayeromali\n",
    "import numpy as np\n",
    "import matplotlib.pyplot as plt\n",
    "import pandas as pd"
   ]
  },
  {
   "cell_type": "markdown",
   "metadata": {},
   "source": [
    "# Load Dataset from CSV Files ( Stock Price - Shapna )"
   ]
  },
  {
   "cell_type": "code",
   "execution_count": 5,
   "metadata": {
    "execution": {
     "iopub.execute_input": "2021-12-04T16:21:12.564713Z",
     "iopub.status.busy": "2021-12-04T16:21:12.564038Z",
     "iopub.status.idle": "2021-12-04T16:21:12.594000Z",
     "shell.execute_reply": "2021-12-04T16:21:12.593297Z",
     "shell.execute_reply.started": "2021-12-04T16:21:12.564656Z"
    }
   },
   "outputs": [],
   "source": [
    "dataset_train = pd.read_csv('../input/sapnastockhistoryprice/shapna.csv')\n",
    "training_set = dataset_train.iloc[:, 1:2].values"
   ]
  },
  {
   "cell_type": "markdown",
   "metadata": {},
   "source": [
    "# Show Dataset Head"
   ]
  },
  {
   "cell_type": "code",
   "execution_count": 6,
   "metadata": {
    "execution": {
     "iopub.execute_input": "2021-12-04T16:22:51.979205Z",
     "iopub.status.busy": "2021-12-04T16:22:51.978896Z",
     "iopub.status.idle": "2021-12-04T16:22:52.006575Z",
     "shell.execute_reply": "2021-12-04T16:22:52.005579Z",
     "shell.execute_reply.started": "2021-12-04T16:22:51.979169Z"
    }
   },
   "outputs": [],
   "source": [
    "dataset_train.head()"
   ]
  },
  {
   "cell_type": "markdown",
   "metadata": {},
   "source": [
    "# Feature Scaling"
   ]
  },
  {
   "cell_type": "code",
   "execution_count": 7,
   "metadata": {
    "execution": {
     "iopub.execute_input": "2021-12-04T16:23:31.209498Z",
     "iopub.status.busy": "2021-12-04T16:23:31.209212Z",
     "iopub.status.idle": "2021-12-04T16:23:32.334036Z",
     "shell.execute_reply": "2021-12-04T16:23:32.333146Z",
     "shell.execute_reply.started": "2021-12-04T16:23:31.209470Z"
    }
   },
   "outputs": [],
   "source": [
    "from sklearn.preprocessing import MinMaxScaler\n",
    "sc = MinMaxScaler(feature_range = (0, 1))\n",
    "training_set_scaled = sc.fit_transform(training_set)"
   ]
  },
  {
   "cell_type": "markdown",
   "metadata": {},
   "source": [
    "# Creating Data with Timesteps"
   ]
  },
  {
   "cell_type": "code",
   "execution_count": 8,
   "metadata": {
    "execution": {
     "iopub.execute_input": "2021-12-04T16:24:15.489580Z",
     "iopub.status.busy": "2021-12-04T16:24:15.489248Z",
     "iopub.status.idle": "2021-12-04T16:24:15.502638Z",
     "shell.execute_reply": "2021-12-04T16:24:15.501888Z",
     "shell.execute_reply.started": "2021-12-04T16:24:15.489537Z"
    }
   },
   "outputs": [],
   "source": [
    "X_train = []\n",
    "y_train = []\n",
    "for i in range(60, 2400):\n",
    "    X_train.append(training_set_scaled[i-60:i, 0])\n",
    "    y_train.append(training_set_scaled[i, 0])\n",
    "    \n",
    "X_train, y_train = np.array(X_train), np.array(y_train)\n",
    "X_train = np.reshape(X_train, (X_train.shape[0], X_train.shape[1], 1))"
   ]
  },
  {
   "cell_type": "markdown",
   "metadata": {},
   "source": [
    "# Building the LSTM"
   ]
  },
  {
   "cell_type": "code",
   "execution_count": 10,
   "metadata": {
    "execution": {
     "iopub.execute_input": "2021-12-04T16:30:02.481145Z",
     "iopub.status.busy": "2021-12-04T16:30:02.480860Z",
     "iopub.status.idle": "2021-12-04T16:55:01.810736Z",
     "shell.execute_reply": "2021-12-04T16:55:01.809919Z",
     "shell.execute_reply.started": "2021-12-04T16:30:02.481113Z"
    }
   },
   "outputs": [],
   "source": [
    "from keras.models import Sequential\n",
    "from keras.layers import Dense\n",
    "from keras.layers import LSTM\n",
    "from keras.layers import Dropout\n",
    "\n",
    "regressor = Sequential()\n",
    "\n",
    "regressor.add(LSTM(units = 50, return_sequences = True, input_shape = (X_train.shape[1], 1)))\n",
    "regressor.add(Dropout(0.2))\n",
    "\n",
    "regressor.add(LSTM(units = 50, return_sequences = True))\n",
    "regressor.add(Dropout(0.2))\n",
    "\n",
    "regressor.add(LSTM(units = 50, return_sequences = True))\n",
    "regressor.add(Dropout(0.2))\n",
    "\n",
    "regressor.add(LSTM(units = 50))\n",
    "regressor.add(Dropout(0.2))\n",
    "\n",
    "regressor.add(Dense(units = 1))\n",
    "\n",
    "regressor.compile(optimizer = 'adam', loss = 'mean_squared_error')\n",
    "regressor.fit(X_train, y_train, epochs = 100, batch_size = 32)"
   ]
  },
  {
   "cell_type": "markdown",
   "metadata": {},
   "source": [
    "# Predicting Future Stock using the Test Set"
   ]
  },
  {
   "cell_type": "code",
   "execution_count": 23,
   "metadata": {
    "execution": {
     "iopub.execute_input": "2021-12-04T16:59:53.598240Z",
     "iopub.status.busy": "2021-12-04T16:59:53.597769Z",
     "iopub.status.idle": "2021-12-04T16:59:58.174628Z",
     "shell.execute_reply": "2021-12-04T16:59:58.173914Z",
     "shell.execute_reply.started": "2021-12-04T16:59:53.598207Z"
    }
   },
   "outputs": [],
   "source": [
    "dataset_test = pd.read_csv('../input/sapnastockhistoryprice/shapna.csv')\n",
    "real_stock_price = dataset_test.iloc[:, 1:2].values\n",
    "\n",
    "dataset_total = pd.concat((dataset_train['open'], dataset_test['open']), axis = 0)\n",
    "inputs = dataset_total[len(dataset_total) - len(dataset_test) - 60:].values\n",
    "inputs = inputs.reshape(-1,1)\n",
    "inputs = sc.transform(inputs)\n",
    "X_test = []\n",
    "for i in range(60, 2450):\n",
    "    X_test.append(inputs[i-60:i, 0])\n",
    "X_test = np.array(X_test)\n",
    "X_test = np.reshape(X_test, (X_test.shape[0], X_test.shape[1], 1))\n",
    "predicted_stock_price = regressor.predict(X_test)\n",
    "predicted_stock_price = sc.inverse_transform(predicted_stock_price)"
   ]
  },
  {
   "cell_type": "markdown",
   "metadata": {},
   "source": [
    "# Plotting the Results"
   ]
  },
  {
   "cell_type": "code",
   "execution_count": 26,
   "metadata": {
    "execution": {
     "iopub.execute_input": "2021-12-04T17:01:26.415687Z",
     "iopub.status.busy": "2021-12-04T17:01:26.415244Z",
     "iopub.status.idle": "2021-12-04T17:01:26.673984Z",
     "shell.execute_reply": "2021-12-04T17:01:26.672559Z",
     "shell.execute_reply.started": "2021-12-04T17:01:26.415647Z"
    }
   },
   "outputs": [],
   "source": [
    "plt.plot(real_stock_price, color = 'black', label = 'Shapna Stock Price')\n",
    "plt.plot(predicted_stock_price, color = 'green', label = 'Predicted Shapna Stock Price')\n",
    "plt.title('Shapna Stock Price Prediction')\n",
    "plt.xlabel('Time')\n",
    "plt.ylabel('Shapna Stock Price')\n",
    "plt.legend()\n",
    "plt.show()"
   ]
  }
 ],
 "metadata": {
  "kernelspec": {
   "display_name": "Python 3 (ipykernel)",
   "language": "python",
   "name": "python3"
  },
  "language_info": {
   "codemirror_mode": {
    "name": "ipython",
    "version": 3
   },
   "file_extension": ".py",
   "mimetype": "text/x-python",
   "name": "python",
   "nbconvert_exporter": "python",
   "pygments_lexer": "ipython3",
   "version": "3.8.10"
  }
 },
 "nbformat": 4,
 "nbformat_minor": 4
}
